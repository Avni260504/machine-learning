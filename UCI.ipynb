{
  "nbformat": 4,
  "nbformat_minor": 0,
  "metadata": {
    "colab": {
      "provenance": []
    },
    "kernelspec": {
      "name": "python3",
      "display_name": "Python 3"
    },
    "language_info": {
      "name": "python"
    }
  },
  "cells": [
    {
      "cell_type": "code",
      "execution_count": null,
      "metadata": {
        "colab": {
          "base_uri": "https://localhost:8080/"
        },
        "id": "-AdTz9zMxCgU",
        "outputId": "79c62c53-573c-4d17-c2aa-d47b366043d1"
      },
      "outputs": [
        {
          "output_type": "stream",
          "name": "stdout",
          "text": [
            "Dataset Info:\n",
            "<class 'pandas.core.frame.DataFrame'>\n",
            "RangeIndex: 178 entries, 0 to 177\n",
            "Data columns (total 14 columns):\n",
            " #   Column                Non-Null Count  Dtype  \n",
            "---  ------                --------------  -----  \n",
            " 0   Class                 178 non-null    int64  \n",
            " 1   Alcohol               178 non-null    float64\n",
            " 2   Malic_acid            178 non-null    float64\n",
            " 3   Ash                   178 non-null    float64\n",
            " 4   Alcalinity_of_ash     178 non-null    float64\n",
            " 5   Magnesium             178 non-null    int64  \n",
            " 6   Total_phenols         178 non-null    float64\n",
            " 7   Flavanoids            178 non-null    float64\n",
            " 8   Nonflavanoid_phenols  178 non-null    float64\n",
            " 9   Proanthocyanins       178 non-null    float64\n",
            " 10  Color_intensity       178 non-null    float64\n",
            " 11  Hue                   178 non-null    float64\n",
            " 12  OD280_OD315           178 non-null    float64\n",
            " 13  Proline               178 non-null    int64  \n",
            "dtypes: float64(11), int64(3)\n",
            "memory usage: 19.6 KB\n",
            "None\n",
            "\n",
            "First few rows:\n",
            "   Class  Alcohol  Malic_acid   Ash  Alcalinity_of_ash  Magnesium  \\\n",
            "0      1    14.23        1.71  2.43               15.6        127   \n",
            "1      1    13.20        1.78  2.14               11.2        100   \n",
            "2      1    13.16        2.36  2.67               18.6        101   \n",
            "3      1    14.37        1.95  2.50               16.8        113   \n",
            "4      1    13.24        2.59  2.87               21.0        118   \n",
            "\n",
            "   Total_phenols  Flavanoids  Nonflavanoid_phenols  Proanthocyanins  \\\n",
            "0           2.80        3.06                  0.28             2.29   \n",
            "1           2.65        2.76                  0.26             1.28   \n",
            "2           2.80        3.24                  0.30             2.81   \n",
            "3           3.85        3.49                  0.24             2.18   \n",
            "4           2.80        2.69                  0.39             1.82   \n",
            "\n",
            "   Color_intensity   Hue  OD280_OD315  Proline  \n",
            "0             5.64  1.04         3.92     1065  \n",
            "1             4.38  1.05         3.40     1050  \n",
            "2             5.68  1.03         3.17     1185  \n",
            "3             7.80  0.86         3.45     1480  \n",
            "4             4.32  1.04         2.93      735  \n",
            "\n",
            "Check for missing values:\n",
            "Class                   0\n",
            "Alcohol                 0\n",
            "Malic_acid              0\n",
            "Ash                     0\n",
            "Alcalinity_of_ash       0\n",
            "Magnesium               0\n",
            "Total_phenols           0\n",
            "Flavanoids              0\n",
            "Nonflavanoid_phenols    0\n",
            "Proanthocyanins         0\n",
            "Color_intensity         0\n",
            "Hue                     0\n",
            "OD280_OD315             0\n",
            "Proline                 0\n",
            "dtype: int64\n",
            "\n",
            "Check for duplicates removed:\n",
            "(178, 14)\n",
            "\n",
            "Cleaned and Prepared Data:\n",
            "   Class   Alcohol  Malic_acid       Ash  Alcalinity_of_ash  Magnesium  \\\n",
            "0      1  1.518613   -0.562250  0.232053          -1.169593   1.913905   \n",
            "1      1  0.246290   -0.499413 -0.827996          -2.490847   0.018145   \n",
            "2      1  0.196879    0.021231  1.109334          -0.268738   0.088358   \n",
            "3      1  1.691550   -0.346811  0.487926          -0.809251   0.930918   \n",
            "4      1  0.295700    0.227694  1.840403           0.451946   1.281985   \n",
            "\n",
            "   Total_phenols  Flavanoids  Nonflavanoid_phenols  Proanthocyanins  \\\n",
            "0       0.808997    1.034819             -0.659563         1.224884   \n",
            "1       0.568648    0.733629             -0.820719        -0.544721   \n",
            "2       0.808997    1.215533             -0.498407         2.135968   \n",
            "3       2.491446    1.466525             -0.981875         1.032155   \n",
            "4       0.808997    0.663351              0.226796         0.401404   \n",
            "\n",
            "   Color_intensity       Hue  OD280_OD315   Proline  \n",
            "0         0.251717  0.362177     1.847920  1.013009  \n",
            "1        -0.293321  0.406051     1.113449  0.965242  \n",
            "2         0.269020  0.318304     0.788587  1.395148  \n",
            "3         1.186068 -0.427544     1.184071  2.334574  \n",
            "4        -0.319276  0.362177     0.449601 -0.037874  \n"
          ]
        }
      ],
      "source": [
        "# Import necessary libraries\n",
        "import pandas as pd\n",
        "import numpy as np\n",
        "from sklearn.preprocessing import StandardScaler\n",
        "\n",
        "# Load the dataset\n",
        "url = \"https://archive.ics.uci.edu/ml/machine-learning-databases/wine/wine.data\"\n",
        "column_names = [\n",
        "    \"Class\", \"Alcohol\", \"Malic_acid\", \"Ash\", \"Alcalinity_of_ash\",\n",
        "    \"Magnesium\", \"Total_phenols\", \"Flavanoids\", \"Nonflavanoid_phenols\",\n",
        "    \"Proanthocyanins\", \"Color_intensity\", \"Hue\", \"OD280_OD315\", \"Proline\"\n",
        "]\n",
        "data = pd.read_csv(url, header=None, names=column_names)\n",
        "\n",
        "# Step 1: Understanding the data\n",
        "print(\"Dataset Info:\")\n",
        "print(data.info())\n",
        "print(\"\\nFirst few rows:\")\n",
        "print(data.head())\n",
        "\n",
        "# Step 2: Handle missing values (if any)\n",
        "print(\"\\nCheck for missing values:\")\n",
        "print(data.isnull().sum())\n",
        "# If there are missing values, you can fill them or remove rows/columns:\n",
        "# data.fillna(method='ffill', inplace=True)\n",
        "\n",
        "# Step 3: Remove duplicates\n",
        "data.drop_duplicates(inplace=True)\n",
        "print(\"\\nCheck for duplicates removed:\")\n",
        "print(data.shape)\n",
        "\n",
        "# Step 4: Standardize the numerical features\n",
        "scaler = StandardScaler()\n",
        "numerical_features = data.drop(columns=[\"Class\"])  # Exclude the target column for scaling\n",
        "data_scaled = pd.DataFrame(scaler.fit_transform(numerical_features), columns=numerical_features.columns)\n",
        "\n",
        "# Combine scaled data with the target column\n",
        "data_cleaned = pd.concat([data[\"Class\"], data_scaled], axis=1)\n",
        "\n",
        "# Step 5: Validate the data\n",
        "print(\"\\nCleaned and Prepared Data:\")\n",
        "print(data_cleaned.head())"
      ]
    },
    {
      "cell_type": "code",
      "source": [
        "data_cleaned.to_csv('wine_data_cleaned.csv', index=False)\n",
        "from google.colab import files\n",
        "files.download('wine_data_cleaned.csv')\n"
      ],
      "metadata": {
        "colab": {
          "base_uri": "https://localhost:8080/",
          "height": 17
        },
        "id": "j7ftfK9nz9bS",
        "outputId": "6669e18a-351d-49eb-b022-61187b4f5e5d"
      },
      "execution_count": 4,
      "outputs": [
        {
          "output_type": "display_data",
          "data": {
            "text/plain": [
              "<IPython.core.display.Javascript object>"
            ],
            "application/javascript": [
              "\n",
              "    async function download(id, filename, size) {\n",
              "      if (!google.colab.kernel.accessAllowed) {\n",
              "        return;\n",
              "      }\n",
              "      const div = document.createElement('div');\n",
              "      const label = document.createElement('label');\n",
              "      label.textContent = `Downloading \"${filename}\": `;\n",
              "      div.appendChild(label);\n",
              "      const progress = document.createElement('progress');\n",
              "      progress.max = size;\n",
              "      div.appendChild(progress);\n",
              "      document.body.appendChild(div);\n",
              "\n",
              "      const buffers = [];\n",
              "      let downloaded = 0;\n",
              "\n",
              "      const channel = await google.colab.kernel.comms.open(id);\n",
              "      // Send a message to notify the kernel that we're ready.\n",
              "      channel.send({})\n",
              "\n",
              "      for await (const message of channel.messages) {\n",
              "        // Send a message to notify the kernel that we're ready.\n",
              "        channel.send({})\n",
              "        if (message.buffers) {\n",
              "          for (const buffer of message.buffers) {\n",
              "            buffers.push(buffer);\n",
              "            downloaded += buffer.byteLength;\n",
              "            progress.value = downloaded;\n",
              "          }\n",
              "        }\n",
              "      }\n",
              "      const blob = new Blob(buffers, {type: 'application/binary'});\n",
              "      const a = document.createElement('a');\n",
              "      a.href = window.URL.createObjectURL(blob);\n",
              "      a.download = filename;\n",
              "      div.appendChild(a);\n",
              "      a.click();\n",
              "      div.remove();\n",
              "    }\n",
              "  "
            ]
          },
          "metadata": {}
        },
        {
          "output_type": "display_data",
          "data": {
            "text/plain": [
              "<IPython.core.display.Javascript object>"
            ],
            "application/javascript": [
              "download(\"download_2d8d3fd9-d6f3-418d-a4c0-61776adffd68\", \"wine_data_cleaned.csv\", 45971)"
            ]
          },
          "metadata": {}
        }
      ]
    }
  ]
}